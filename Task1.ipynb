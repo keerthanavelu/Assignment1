{
  "nbformat": 4,
  "nbformat_minor": 0,
  "metadata": {
    "colab": {
      "name": "Task1.ipynb",
      "provenance": [],
      "collapsed_sections": []
    },
    "kernelspec": {
      "name": "python3",
      "display_name": "Python 3"
    },
    "language_info": {
      "name": "python"
    }
  },
  "cells": [
    {
      "cell_type": "code",
      "execution_count": 1,
      "metadata": {
        "id": "JGP4deTAyplK"
      },
      "outputs": [],
      "source": [
        "import os\n",
        "os.mkdir(\"Task1\")"
      ]
    },
    {
      "cell_type": "code",
      "source": [
        "file1=open(\"Task1/task.py\",\"x\")\n",
        "file2=open(\"Task1/database.txt\",\"x\")"
      ],
      "metadata": {
        "id": "mxQJbEn61Mrt"
      },
      "execution_count": 2,
      "outputs": []
    },
    {
      "cell_type": "code",
      "source": [
        "%%writefile Task1/task1.py\n",
        "import re\n",
        "def register():\n",
        "  db=open(\"Task1/database.txt\",\"r\")\n",
        "  Username=input(\"Enter your email id: \")\n",
        "  Password=input(\"enter your password: \")\n",
        "  e=[]\n",
        "  p=[]\n",
        "  for i in db:\n",
        "    a,b=i.split(\", \")\n",
        "    b=b.strip()\n",
        "    e.append(a)\n",
        "    p.append(b)\n",
        "  data=dict(zip(e,p))\n",
        "  print(data)\n",
        "  #username validation\n",
        "  regex=r'\\b[A-Za-z0-9._%+-]+@[A-Za-z0-9.-]+\\.[A-Z|a-z]{2,}\\b'\n",
        "  uservalidate=re.fullmatch(regex,Username)\n",
        "  #password validation\n",
        "  reg=\"^(?=.*[a-z])(?=.*[A-Z])(?=.*\\d)(?=.*[@#$%&?*&])[A-Za-z\\d@#$%&?*&]{5,16}$\"\n",
        "  pat=re.compile(reg)\n",
        "  pwdvalidate=re.search(pat,Password)\n",
        "  if not(uservalidate):\n",
        "    print(\"username is invalid\\nusername should have '@' and followed by '.'\\nthere should not be any '.' immediate next to '@'\\nit should not start with special characters and numbers\")\n",
        "  elif not(pwdvalidate):\n",
        "    print(\"Password is invalid\\nPassword length should be greater than 5 and less than 16\\nMust have minimum one special character,one digit,one uppercase, one lowercase character\")\n",
        "  elif Username in e:\n",
        "    print(\"User already exists try sign in with other Username / login\")\n",
        "  else:\n",
        "    db=open(\"Task1/database.txt\",\"a\")\n",
        "    db.write(Username+\", \"+Password+\"\\n\")\n",
        "    print(\"User registered successfully\")\n",
        "    \n",
        "  \n",
        "def access():\n",
        "  db=open(\"Task1/database.txt\",\"r\")\n",
        "  Username=input(\"Enter your email id: \")\n",
        "  Password=input(\"enter your password: \")\n",
        "  if not len(Username or Password)<1:\n",
        "     e=[]\n",
        "     p=[]\n",
        "     for i in db:\n",
        "      a,b=i.split(\", \")\n",
        "      b=b.strip()\n",
        "      e.append(a)\n",
        "      p.append(b)\n",
        "  data=dict(zip(e,p))\n",
        "  try:\n",
        "    if data[Username]:\n",
        "      try:\n",
        "        if Password==data[Username]:\n",
        "          print(\"Login Success\")\n",
        "          print(\"Hi, \",Username)\n",
        "        else:\n",
        "          print(\"Password is incorrect\")\n",
        "          option1=input(\"Forget Password | Sign up\")\n",
        "          if option1==\"Forget Password\":\n",
        "            forgetpwd()\n",
        "          elif option1==\"Sign up\":\n",
        "            if Username in e:\n",
        "              print(\"Username already exists so click on forget password\")\n",
        "            else:\n",
        "              register()\n",
        "      except:\n",
        "        print(\"Password or Username incorrect\")\n",
        "    else:\n",
        "      print(\"Username doesn't exists please signup\")\n",
        "      register()\n",
        "  except:\n",
        "    print(\"Username doesn't exists please signup\")\n",
        "\n",
        "def forgetpwd():\n",
        "  db=open(\"Task1/database.txt\",\"r\")\n",
        "  Username=input(\"Enter your email id: \")\n",
        "  e=[]\n",
        "  p=[]\n",
        "  for i in db:\n",
        "    a,b=i.split(\", \")\n",
        "    b=b.strip()\n",
        "    e.append(a)\n",
        "    p.append(b)\n",
        "  data=dict(zip(e,p))\n",
        "  if Username in e:\n",
        "    userpwd=data[Username]\n",
        "    print(\"Your password is \",userpwd)     \n",
        "\n",
        "def first(option=None):\n",
        "  option=input(\"Login | Sign up: \")\n",
        "  if option==\"Login\":\n",
        "    access()\n",
        "  elif option==\"Sign up\":\n",
        "    register()\n",
        "  else:\n",
        "    print(\"Please enter any one of the options\")\n",
        "first()"
      ],
      "metadata": {
        "colab": {
          "base_uri": "https://localhost:8080/"
        },
        "id": "6IO96xXAlN54",
        "outputId": "1baf8fd5-0d7b-465b-94f8-ea7e1c7d404b"
      },
      "execution_count": 16,
      "outputs": [
        {
          "output_type": "stream",
          "name": "stdout",
          "text": [
            "Overwriting Task1/task1.py\n"
          ]
        }
      ]
    },
    {
      "cell_type": "code",
      "source": [
        "!python Task1/task1.py"
      ],
      "metadata": {
        "id": "xltZJU7N140I",
        "colab": {
          "base_uri": "https://localhost:8080/"
        },
        "outputId": "14208db0-c513-4822-8663-aefa571bb106"
      },
      "execution_count": 15,
      "outputs": [
        {
          "output_type": "stream",
          "name": "stdout",
          "text": [
            "Login | Sign up: Sign up\n",
            "Enter your email id: anisha12@gmail.com\n",
            "enter your password: Anisha1*\n",
            "{}\n",
            "User registered successfully\n"
          ]
        }
      ]
    },
    {
      "cell_type": "code",
      "source": [
        ""
      ],
      "metadata": {
        "id": "XaokexcIWgZ6"
      },
      "execution_count": null,
      "outputs": []
    }
  ]
}